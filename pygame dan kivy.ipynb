{
 "cells": [
  {
   "cell_type": "markdown",
   "metadata": {},
   "source": [
    "# PYGAME"
   ]
  },
  {
   "cell_type": "markdown",
   "metadata": {},
   "source": [
    "<B> PENGERTIAN  PYGAME <Br> </B>\n",
    "pygame ( perpustakaan ) adalah perpustakaan bahasa pemrograman phyton Bebas dan Open Source untuk membuat aplikasi multimedia seperti permainan yang dibangun di atas perpustakaan SDL yang sangat baik . Seperti SDL, pygame sangat portabel dan berjalan di hampir semua platform dan sistem operasi. Jutaan orang telah mengunduh pygame itu sendiri, yang merupakan keseluruhan bit yang terbang melintasi interwebs.\n",
    "pygame.org ( situs web ) menyambut semua proyek permainan, seni, musik, suara, video, dan multimedia Python. Setelah Anda selesai memulai, Anda dapat menambahkan proyek baru atau belajar tentang pygame dengan membaca dokumen . Untuk informasi lebih lanjut tentang apa yang terjadi di dunia pygame lihat dashboard komunitas , yang berisi banyak hal seperti proyek kami yang sedang kami kerjakan, berita (blog kami dengan rss), twitter , reddit (forum), stackoverflow (Q&A), github (pengembangan), irc (chat), mailinglist (Kami suka menulis surat elektronik satu sama lain) dan berbagai potongan dan potongan lain tentang pygame dari seluruh internet.\n",
    "pygame ( komunitas ) adalah kelompok sukarelawan kecil manusia kreatif yang membuat sesuatu (mungkin juga ada beberapa kucing, beberapa koala, lusinan doggos, 3,14 gnome, dan 42 robot yang juga mengotak-atik kita). Kami saling menghargai, dan mengikuti kode perilaku komunitas Python , sementara kami saling membantu membuat hal-hal yang menarik.\n"
   ]
  },
  {
   "cell_type": "markdown",
   "metadata": {},
   "source": [
    "<B> Instalasi Pygame <Br> </B>\n",
    "Agar modul pygame dapat digunakan untuk pembuatan game, maka terlebih dahulu dilakukan instalasi pygame. Tahapan-tahapan yang harus dilakukan untuk instalasi pygame adalah: <Br>\n",
    "a.\tSiapkan file pygame.whl \n",
    "Download library pygame di https://www.lfd.uci.edu/~gohlke/pythonlibs/ . Sesuaikan versi python yang terinstall dengan versi librari pygame yang akan di download. Contoh python v3.5 telah terinstall, maka download library pygame dengan cp3.5m-win32. <Br>\n",
    "b.\tRubah file pygame.whl menjadi .zip \n",
    "Rubah extension file library pygame lalu extract isi library tersebut.<Br>\n",
    "c.\tCopy file pygame yang dibutuhkan <Br>\n",
    "i.\tMasuk ke dalam directory python (C:\\User\\#username\\AppData\\Local\\Programs\\Python\\Python35-32)<Br>\n",
    "ii.\tMasuk kedalam folder “include” dan buat folder baru bernama “pygame”<Br>\n",
    "iii.\tDidalam folder hasil extract file library pygame yang sudah di download, masuk ke “pygmae-1.9.4.data\\header”, copy semua file didalam folder tersebut dan masukkan ke dalam folder: C:\\User\\#username\\AppData\\Local\\Program\\Python\\Python35-32\\include\\pygame<Br>\n",
    "iv.\tKembali ke folder hasil extract file library pygame tadi, copy folder “pygame”  dan “pygame-1.9.4.dist-info” ke dalam: C:\\User\\#username\\AppData\\Local\\Program\\Python\\Python35-32\\Lib\\site-packages” <Br>\n",
    "d.\tCek hasil installasi <Br>\n",
    "Buka IDLE Python lalu lakukan perintah “import pygame”, jika tidak ada tulisan error maka pygame sudah berhasil terinstall.\n"
   ]
  },
  {
   "cell_type": "markdown",
   "metadata": {},
   "source": [
    "<b>SOURCE CODE PYGAME SNAKE PERTAMA <b/>"
   ]
  },
  {
   "cell_type": "code",
   "execution_count": null,
   "metadata": {},
   "outputs": [],
   "source": [
    "import pygame\n",
    "import sys\n",
    "import time\n",
    "import random\n",
    "from pygame.locals import *\n",
    "\n",
    "FPS = 10 \n",
    "pygame.init()\n",
    "fpsClock=pygame.time.Clock()\n",
    "\n",
    "SCREEN_WIDTH, SCREEN_HEIGHT = 640, 480 \n",
    "screen = pygame.display.set_mode((SCREEN_WIDTH, SCREEN_HEIGHT), 0, 32) \n",
    "surface = pygame.Surface(screen.get_size())\n",
    "surface = surface.convert()\n",
    "surface.fill((255,255,255)) \n",
    "clock = pygame.time.Clock()\n",
    "\n",
    "\n",
    "pygame.key.set_repeat(1, 4) \n",
    "\n",
    "GRIDSIZE=10 \n",
    "GRID_WIDTH = SCREEN_WIDTH / GRIDSIZE\n",
    "GRID_HEIGHT = SCREEN_HEIGHT / GRIDSIZE\n",
    "\n",
    "UP    = (0, -1)\n",
    "DOWN  = (0, 1)\n",
    "LEFT  = (-1, 0)\n",
    "RIGHT = (1, 0)\n",
    "\n",
    "    \n",
    "screen.blit(surface, (0,0))\n",
    "\n",
    "def draw_box(surf, color, pos):\n",
    "    r = pygame.Rect((pos[0], pos[1]), (GRIDSIZE, GRIDSIZE))\n",
    "    pygame.draw.rect(surf, color, r)\n",
    "\n",
    "class Snake(object):\n",
    "    def __init__(self):\n",
    "        self.lose()\n",
    "        self.color = (0,0,0)\n",
    "\n",
    "    def get_head_position(self):\n",
    "        return self.positions[0]\n",
    "\n",
    "    def lose(self):\n",
    "        self.length = 0 #pjg ular pertama\n",
    "        self.positions =  [((SCREEN_WIDTH / 2), (SCREEN_HEIGHT / 2))]\n",
    "        self.direction = random.choice([UP, DOWN, LEFT, RIGHT])\n",
    "\n",
    "    def point(self, pt):\n",
    "        if self.length > 1 and (pt[0] * -1, pt[1] * -1) == self.direction:\n",
    "            return\n",
    "        else:\n",
    "            self.direction = pt\n",
    "\n",
    "    def move(self):\n",
    "        cur = self.positions[0]\n",
    "        x, y = self.direction\n",
    "        new = (((cur[0]+(x*GRIDSIZE)) % SCREEN_WIDTH), (cur[1]+(y*GRIDSIZE)) % SCREEN_HEIGHT)\n",
    "        if len(self.positions) > 2 and new in self.positions[2:]:\n",
    "            self.lose()\n",
    "        else:\n",
    "            self.positions.insert(0, new)\n",
    "            if len(self.positions) > self.length:\n",
    "                self.positions.pop()\n",
    "    \n",
    "    def draw(self, surf):\n",
    "        for p in self.positions:\n",
    "            draw_box(surf, self.color, p)\n",
    "\n",
    "class Apple(object):\n",
    "    def __init__(self):\n",
    "        self.position = (0,0)\n",
    "        self.position1 = (0,0)\n",
    "        self.position2 = (0,0)\n",
    "        self.color = (255,0,0)\n",
    "        self.randomize()\n",
    "       \n",
    "    def randomize(self):\n",
    "        self.position = (random.randint(0, GRID_WIDTH-1) * GRIDSIZE, random.randint(0, GRID_HEIGHT-1) * GRIDSIZE)\n",
    "    \n",
    "    def draw(self, surf):\n",
    "        draw_box(surf, self.color, self.position)\n",
    "    \n",
    "def check_eat(snake, apple):\n",
    "    if snake.get_head_position() == apple.position:\n",
    "        snake.length += 1\n",
    "        apple.randomize()\n",
    "    \n",
    "        \n",
    "      \n",
    "        \n",
    "\n",
    "if __name__ == '__main__':\n",
    "    snake = Snake()\n",
    "    apple = Apple()\n",
    "    while True:\n",
    "\n",
    "        for event in pygame.event.get():\n",
    "            if event.type == QUIT:\n",
    "                pygame.quit()\n",
    "                sys.exit()\n",
    "            elif event.type == KEYDOWN:\n",
    "                if event.key == K_UP:\n",
    "                    snake.point(UP)\n",
    "                elif event.key == K_DOWN:\n",
    "                    snake.point(DOWN)\n",
    "                elif event.key == K_LEFT:\n",
    "                    snake.point(LEFT)\n",
    "                elif event.key == K_RIGHT:\n",
    "                    snake.point(RIGHT)\n",
    "                elif event.key == K_SPACE:\n",
    "                    snake.point(SPACE)\n",
    "        surface.fill((255,255,255))\n",
    "        snake.move()\n",
    "        check_eat(snake, apple)\n",
    "        snake.draw(surface)\n",
    "        apple.draw(surface)\n",
    "        font = pygame.font.Font(None, 36)\n",
    "        text = font.render(str(snake.length), 1, (10, 10, 10))\n",
    "        textpos = text.get_rect()\n",
    "        textpos.centerx = 20\n",
    "        surface.blit(text, textpos)\n",
    "        screen.blit(surface, (0,0))\n",
    "\n",
    "        pygame.display.flip()\n",
    "        pygame.display.update()\n",
    "        fpsClock.tick(FPS + snake.length/3)\n"
   ]
  },
  {
   "cell_type": "markdown",
   "metadata": {},
   "source": [
    "<b> HASIL RUN KODE AWAL <b/>"
   ]
  },
  {
   "cell_type": "markdown",
   "metadata": {},
   "source": [
    "<img src=\"gambar/ularawal.png\">"
   ]
  },
  {
   "cell_type": "markdown",
   "metadata": {},
   "source": [
    "<b>SOURCE CODE PYGAME SNAKE MODIFIKASI <b/>"
   ]
  },
  {
   "cell_type": "code",
   "execution_count": null,
   "metadata": {},
   "outputs": [],
   "source": [
    "import pygame\n",
    "import sys\n",
    "import time\n",
    "import random\n",
    "\n",
    "from pygame.locals import*\n",
    "FPS = 10 #kecepatan ular\n",
    "pygame.init()\n",
    "fpsClock=pygame.time.Clock()\n",
    "\n",
    "SCREEN_WIDTH, SCREEN_HEIGHT = 640, 480 #ukuran layar\n",
    "screen = pygame.display.set_mode((SCREEN_WIDTH, SCREEN_HEIGHT), 0, 32) #*\n",
    "surface = pygame.Surface(screen.get_size())\n",
    "surface = surface.convert()\n",
    "clock = pygame.time.Clock()\n",
    "\n",
    "music = pygame.mixer.music.load('music.mp3')\n",
    "pygame.mixer.music.play()\n",
    "\n",
    "back = pygame.image.load('back.png')\n",
    "back = pygame.transform.scale(back, (640,480))\n",
    "\n",
    "pygame.key.set_repeat(1, 4) #!*\n",
    "\n",
    "GRIDSIZE=10 #*\n",
    "GRID_WIDTH = SCREEN_WIDTH / GRIDSIZE\n",
    "GRID_HEIGHT = SCREEN_HEIGHT / GRIDSIZE\n",
    "\n",
    "#koordinat\n",
    "UP    = (0, -1)\n",
    "DOWN  = (0, 1)\n",
    "LEFT  = (-1, 0)\n",
    "RIGHT = (1, 0)\n",
    "\n",
    "screen.blit(surface, (0,0))\n",
    "\n",
    "def draw_box(surf, color, pos):\n",
    "    r = pygame.Rect((pos[0], pos[1]), (GRIDSIZE, GRIDSIZE))\n",
    "    pygame.draw.rect(surf, color, r)\n",
    "            \n",
    "class Snake(object):\n",
    "    def __init__(self):\n",
    "        self.lose()\n",
    "        self.color = (0,128,0) #warna ular\n",
    "\n",
    "    def get_head_position(self):\n",
    "        return self.positions[0]\n",
    "\n",
    "    def lose(self):\n",
    "        self.length = 0 #pjg ular pertama\n",
    "        self.positions =  [((SCREEN_WIDTH / 2), (SCREEN_HEIGHT / 2))]\n",
    "        self.direction = random.choice([UP, DOWN, LEFT, RIGHT])\n",
    "\n",
    "    def point(self, pt):\n",
    "        if self.length > 1 and (pt[0] * -1, pt[1] * -1) == self.direction:\n",
    "            return\n",
    "        else:\n",
    "            self.direction = pt\n",
    "\n",
    "    def move(self):\n",
    "        cur = self.positions[0]\n",
    "        x, y = self.direction\n",
    "        new = (((cur[0]+(x*GRIDSIZE)) % SCREEN_WIDTH), (cur[1]+(y*GRIDSIZE)) % SCREEN_HEIGHT)\n",
    "        if len(self.positions) > 2 and new in self.positions[2:]:\n",
    "            self.lose()\n",
    "        else:\n",
    "            self.positions.insert(0, new)\n",
    "            if len(self.positions) > self.length:\n",
    "                self.positions.pop()\n",
    "    \n",
    "    def draw(self, surf):\n",
    "        for p in self.positions:\n",
    "            draw_box(surf, self.color, p)\n",
    "\n",
    "class Apple(object):\n",
    "    def __init__(self):\n",
    "        self.position = (0,0)\n",
    "        self.position1 = (0,0)\n",
    "        self.position2 = (0,0)\n",
    "        self.color = (255,0,0)\n",
    "        self.randomize()\n",
    "        self.randomize1()\n",
    "        self.randomize2()\n",
    "    def randomize(self):\n",
    "        self.position = (random.randint(0, GRID_WIDTH-1) * GRIDSIZE, random.randint(0, GRID_HEIGHT-1) * GRIDSIZE)\n",
    "    def randomize1(self):\n",
    "        self.position1 = (random.randint(0, GRID_WIDTH-1) * GRIDSIZE, random.randint(0, GRID_HEIGHT-1) * GRIDSIZE)\n",
    "    def randomize2(self):\n",
    "        self.position2 = (random.randint(0, GRID_WIDTH-1) * GRIDSIZE, random.randint(0, GRID_HEIGHT-1) * GRIDSIZE)\n",
    "    def draw(self, surf):\n",
    "        draw_box(surf, self.color, self.position)\n",
    "    def draw1(self, surf):\n",
    "        draw_box(surf, self.color, self.position1)\n",
    "    def draw2(self, surf):\n",
    "        draw_box(surf, self.color, self.position2)\n",
    "class pagar(object):\n",
    "    def __init__(self):\n",
    "        self.position = (100,300)\n",
    "        self.position1 = (100,290)\n",
    "        self.position2 = (100,280)\n",
    "        self.position3 = (100,270)\n",
    "        self.position4 = (400,100)\n",
    "        self.position5 = (410,100)\n",
    "        self.position6 = (420,100)\n",
    "        self.position7 = (430,100)\n",
    "        \n",
    "        self.color = (255,255,0)\n",
    "        self.color1=(0,0,255)\n",
    "        \n",
    "    def draw(self, surf):\n",
    "        draw_box(surf, self.color1, self.position)\n",
    "    def draw1(self, surf):\n",
    "        draw_box(surf, self.color1, self.position1)\n",
    "    def draw2(self, surf):\n",
    "        draw_box(surf, self.color1, self.position2)\n",
    "    def draw3(self, surf):\n",
    "        draw_box(surf, self.color1, self.position3)\n",
    "    def draw4(self, surf):\n",
    "        draw_box(surf, self.color, self.position4)\n",
    "    def draw5(self, surf):\n",
    "        draw_box(surf, self.color, self.position5)\n",
    "    def draw6(self, surf):\n",
    "        draw_box(surf, self.color, self.position6)\n",
    "    def draw7(self, surf):\n",
    "        draw_box(surf, self.color, self.position7)\n",
    "\n",
    "def check_eat(snake, apple):\n",
    "    if snake.get_head_position() == apple.position:\n",
    "        snake.length += 1\n",
    "        apple.randomize()\n",
    "    if snake.get_head_position() == apple.position1:\n",
    "        snake.length += 1\n",
    "        apple.randomize1()\n",
    "    if snake.get_head_position() == apple.position2:\n",
    "        snake.length += 1\n",
    "        apple.randomize2()\n",
    "def check_benturan(snake, pagar):#\n",
    "    if snake.get_head_position() == pagar.position:\n",
    "        snake.length -= 1\n",
    "        snake.lose()\n",
    "    if snake.get_head_position() == pagar.position1:\n",
    "        snake.length -= 1\n",
    "        snake.lose()\n",
    "    if snake.get_head_position() == pagar.position2:\n",
    "        snake.length -= 1\n",
    "        snake.lose()\n",
    "    if snake.get_head_position() == pagar.position3:\n",
    "        snake.length -= 1\n",
    "        snake.lose()\n",
    "    if snake.get_head_position() == pagar.position4:\n",
    "        snake.length -= 1\n",
    "    if snake.get_head_position() == pagar.position5:\n",
    "        snake.length -= 1\n",
    "    if snake.get_head_position() == pagar.position6:\n",
    "        snake.length -= 1\n",
    "    if snake.get_head_position() == pagar.position7:\n",
    "        snake.length -= 1        \n",
    "def pause():\n",
    "    paused = True\n",
    "    while paused:\n",
    "        for event in pygame.event.get():\n",
    "            if event.key == pygame.K_UP or event.key == pygame.K_DOWN or event.key == pygame.K_LEFT or event.key == pygame.K_RIGHT or event.key == K_w or event.key == K_a or event.key == K_s or event.key == K_d:\n",
    "                paused = False\n",
    "                snake.move()\n",
    "                \n",
    "        \n",
    "\n",
    "if __name__ == '__main__':\n",
    "    snake = Snake()\n",
    "    apple = Apple()\n",
    "    pagar = pagar()#\n",
    "    while True:\n",
    "\n",
    "        for event in pygame.event.get():\n",
    "            if event.type == QUIT:\n",
    "                pygame.quit()\n",
    "                sys.exit()\n",
    "                \n",
    "            elif event.type == KEYDOWN:\n",
    "                if event.key == K_UP:\n",
    "                    snake.point(UP)\n",
    "                elif event.key == K_DOWN:\n",
    "                    snake.point(DOWN)\n",
    "                elif event.key == K_LEFT:\n",
    "                    snake.point(LEFT)\n",
    "                elif event.key == K_RIGHT:\n",
    "                    snake.point(RIGHT)\n",
    "                elif event.key == K_SPACE:\n",
    "                    pause()\n",
    "                elif event.key == K_w:\n",
    "                    snake.point(UP)\n",
    "                elif event.key == K_s:\n",
    "                    snake.point(DOWN)\n",
    "                elif event.key == K_a:\n",
    "                    snake.point(LEFT)\n",
    "                elif event.key == K_d:\n",
    "                    snake.point(RIGHT)\n",
    "\n",
    "                   \n",
    "        \n",
    "        snake.move()\n",
    "        check_eat(snake, apple)\n",
    "        check_benturan(snake, pagar)#\n",
    "        snake.draw(surface)\n",
    "        apple.draw(surface)\n",
    "        apple.draw(surface)\n",
    "        apple.draw1(surface)\n",
    "        apple.draw2(surface)\n",
    "        pagar.draw(surface)#\n",
    "        pagar.draw1(surface)#\n",
    "        pagar.draw2(surface)#\n",
    "        pagar.draw3(surface)#\n",
    "        pagar.draw4(surface)#\n",
    "        pagar.draw5(surface)#\n",
    "        pagar.draw6(surface)#\n",
    "        pagar.draw7(surface)#\n",
    "        font = pygame.font.Font(None, 36)\n",
    "        text = font.render(str(snake.length), 1, (10, 10, 10))\n",
    "        textpos = text.get_rect()\n",
    "        textpos.centerx = 20\n",
    "        surface.blit(text, textpos)\n",
    "        screen.blit(surface, (0,0))\n",
    "        surface.blit(back, (0,0))\n",
    "\n",
    "\n",
    "        pygame.display.flip()\n",
    "        pygame.display.update()\n",
    "        fpsClock.tick(FPS + snake.length/3)\n"
   ]
  },
  {
   "cell_type": "markdown",
   "metadata": {},
   "source": [
    "HASIL RUN KODE AKHIR"
   ]
  },
  {
   "cell_type": "markdown",
   "metadata": {},
   "source": [
    "<img src=\"gambar/akhir.png\">"
   ]
  },
  {
   "cell_type": "markdown",
   "metadata": {},
   "source": [
    "# <center><B>STRUKTUR CLASS</B></center>"
   ]
  },
  {
   "cell_type": "markdown",
   "metadata": {},
   "source": [
    "<img src=\"gambar/gram.png\">"
   ]
  },
  {
   "cell_type": "markdown",
   "metadata": {},
   "source": [
    "<B> class snake(object)</B>"
   ]
  },
  {
   "cell_type": "markdown",
   "metadata": {},
   "source": [
    "untuk mengatur pergerakan snake<br>\n",
    "def __init__(self): menginisialisasi kelas ular<br>\n",
    "def get_head_position(self): method untuk kepala ular<br>\n",
    "def lose(self): method mereset ular dari awal<br>\n",
    "def point(self): menambah point pada ular<br>\n",
    "def move(self): method untuk pergerakan ular<br>\n",
    "def draw(self): untuk mengecek posisi ular<br>\n"
   ]
  },
  {
   "cell_type": "markdown",
   "metadata": {},
   "source": [
    "<B> class apple(object) </B>"
   ]
  },
  {
   "cell_type": "markdown",
   "metadata": {},
   "source": [
    "untuk mengatur tampilan apel dan posisi apel yang muncul secara bergantian.<br>\n",
    "def ¬__init__(self): menginisialisasi kelas apel<br>\n",
    "def randomize(self): method random pada apel 1<br>\n",
    "def randomize(self): method random pada apel 2<br>\n",
    "def randomize2(self): method random pada apel 3<br>\n",
    "def draw(self, surf): memberi warna pada apel 1<br>\n",
    "def draw1(self, surf): meberi warna pada apel 2<br>\n",
    "def draw2(self,surf): memberi warna pada apel 3<br>\n"
   ]
  },
  {
   "cell_type": "markdown",
   "metadata": {},
   "source": [
    "<B> class pagar(object) </B>"
   ]
  },
  {
   "cell_type": "markdown",
   "metadata": {},
   "source": [
    "untuk mengatur tampilan pagar dan posisi pagar<br>\n",
    "def __init__(self): menginisialisasi kelas pagar<br>\n",
    "def draw(self, surf): method warna dan posisi pagar 1<br>\n",
    "def draw1(self, surf): method warna dan posisi pagar 2<br>\n",
    "def draw2(self, surf): method warna dan posisi pagar 3<br>\n",
    "def draw3(self, surf): method warna dan posisi pagar 4<br>\n",
    "def draw4(self, surf): method warna dan posisi pagar 5<br>\n",
    "def draw5(self, surf): method warna dan posisi pagar 6<br>\n",
    "def draw6(self, surf): method warna dan posisi pagar 7<br>\n",
    "def draw7(self, surf): method warna dan posisi pagar 8<br>\n"
   ]
  },
  {
   "cell_type": "markdown",
   "metadata": {},
   "source": [
    "# <center>KONSEP OOP<center/>"
   ]
  },
  {
   "cell_type": "markdown",
   "metadata": {},
   "source": [
    "<B> INHERITANCE : - </B>"
   ]
  },
  {
   "cell_type": "markdown",
   "metadata": {},
   "source": [
    "<B> POLYMORPHISM: </B>"
   ]
  },
  {
   "cell_type": "markdown",
   "metadata": {},
   "source": [
    "memiliki nama fungsi yang sama dalam dua class yang berbeda"
   ]
  },
  {
   "cell_type": "code",
   "execution_count": null,
   "metadata": {},
   "outputs": [],
   "source": [
    "class Snake(object):\n",
    "    def draw(self, surf):\n",
    "            for p in self.positions:\n",
    "                draw_box(surf, self.color, p)\n",
    "                \n",
    "class Apple(object):\n",
    "    def draw(self, surf):\n",
    "            draw_box(surf, self.color, self.position)\n",
    "\n",
    "class pagar(object):\t\n",
    "    def draw(self, surf):\n",
    "            draw_box(surf, self.color1, self.position)\n"
   ]
  },
  {
   "cell_type": "markdown",
   "metadata": {},
   "source": [
    "<B> OVERLOADING: - </B>"
   ]
  },
  {
   "cell_type": "markdown",
   "metadata": {},
   "source": [
    "<B> ENCAPSULATION: - </B>"
   ]
  },
  {
   "cell_type": "code",
   "execution_count": null,
   "metadata": {},
   "outputs": [],
   "source": []
  },
  {
   "cell_type": "code",
   "execution_count": null,
   "metadata": {},
   "outputs": [],
   "source": []
  },
  {
   "cell_type": "markdown",
   "metadata": {},
   "source": [
    "# KIVY"
   ]
  },
  {
   "cell_type": "markdown",
   "metadata": {},
   "source": [
    "<B>PENGERTIAN  KIVY</B><br>\n",
    "Kivy ini sendiri merupakan framework yang dibangun menggunakan library dari bahasa pemrograman Python yang bersifat Open Source. Tujuan dikembangkannya framework ini agar dapat membantu developer secara cepat dalam mengembangkan aplikasi yang memiliki tampilan antarmuka inovatif seperti aplikasi yang mendukung multitouch.\n",
    "Framework ini sendiri dapat dijalankan pada sistem operasi Windows, Mac OS X, Linux, Android, hingga Raspberry Pi. Selain itu, Kivy mendukung untuk input beragam perangkat seperti WM_Touch, WM_Pen, Mac OS X Trackpad, Magi Mouse, Mtdev, Linux Kernel HID, dan TUIO.\n",
    "Untuk memulai menggunakan framework ini developer dapat langsung mengunduh berkas instalasi pada halaman resmi unduh Kivy. Setelah selesai mengunduhnya, developer hanya tinggal mengikuti petunjuk instalasi sesuai masing-masing sistem operasi yang dipilih. Namun, bagi developer yang ingin mencoba versi pengembangan dari Kivy dapat mengambil kode sumbernya dari github.\n",
    "Setelah instalasi selesai, tim yang membangun Kivy menyarankan developer untuk mencoba tutorial pengembangan yang tersedia pada halaman tutorial Kivy. Hal ini dimaksudkan agar mempermudah developer dalam mempelajari Kivy. Selain itu, tutorial aplikasi yang ditawarkan untuk menjadi tutorial adalah pengembangan game Pong dan aplikasi Paint.\n",
    "Selanjutnya, pengguna dapat mempelajari juga deklarasi kode pemrograman dari framework ini langsung pada halaman petunjuk bahasa pemrograman pada Kivy. Hal ini bertujuan untuk membantu developer dalam memahami konsep alur utama pemrograman dalam pengembangan aplikasi menggunakan framework ini.\n",
    "Nantinya dengan framework Kivy ini developer dapat mengembangkan aplikasi pada banyak platform seperti Mac OS X, Linux, Windows, iOS, Android, hingga perangkat layar sentuh yang didukung oleh TUIO (Tangible User Interface Objects).\n",
    "Bagi developer yang tertarik menggunakan framework ini untuk mengembangkan aplikasi mobile secara multiplatform maka dapat langsung mengunjungi situs resmi Kivy. Salah satu contoh aplikasi Android yang dikembangkan menggunakan Kivy ini adalah ProcessCraft BPMN.\n"
   ]
  },
  {
   "cell_type": "markdown",
   "metadata": {},
   "source": [
    "<B>Cara menginstall Python</B><br>\n",
    "1. Download Python versi 3.6 disini<br>\n",
    "\n",
    "2. Buka file yang sudah diinstall tadi<br>\n",
    "\n",
    "\n",
    "\n",
    "\n",
    "\n",
    "3. Pasitkan semua diceklis dan klik next.<br>\n",
    "\n",
    "4. Klik tombol browse<br>\n",
    "\n",
    "\n",
    "\n",
    "\n",
    "5. Lalu pilih Local Disk (C:), dan buat folder baru dengan nama “Python36”(tanpa tanda petik), klik ok.<br>\n",
    "\n",
    "6. Pastikan gambarnya seperti yang dibawah, lalu klik Install<br>\n",
    "\n",
    "\n",
    "\n",
    "7. Buka contol panel, System and Security, System, Advanced system settings, lalu klik environment variables<br>\n",
    "\n",
    "8. Pastikan file Python sudah ditambahkan di path seperti gambar yang dibawah<br>\n",
    "\n",
    "Jika belum silahkan tambahkan dengan cara klik Path, lalu klik tombol edit, klik new, dan isi seperti gambar dibawah ini<br>\n",
    "\n",
    "\n",
    "\n",
    "\n",
    "\n",
    "\n",
    "\n",
    "\n",
    "Klik new lagi dan isi seperti gambar dibawah ini<br>\n",
    "\n",
    "9. Buka cmd untuk memastikan bahwa Python sudah terinstall dengan benar, tekan tombol “windows + r” lalu ketik “cmd” dan tekan enter. Setelah cmd terbuka lalu ketik python, dan tekan enter, maka tampilannya akan seperti yang dibawah<br>\n",
    "\n",
    "10. ketik print(“Hello Steemit”)<br>\n",
    "\n",
    "Maka outputnya adalah Hello Steemit.\n"
   ]
  },
  {
   "cell_type": "markdown",
   "metadata": {},
   "source": [
    "<B>Cara menginstall Kivy</B><br>\n",
    "Buka cmd dengan cara tekan tombol “windows + r” ketik “cmd” lalu tekan enter.<br>\n",
    "1. Pada tampilan cmd silahkan anda ketik perintah dibawah ini lalu tekan enter<br>\n",
    "python -m pip install --upgrade pip wheel setuptools<br>\n",
    "\n",
    "Pastikan bahwa perangkat anda terhubung ke internet, lalu tunggu prosesnya hingga selesai, mungkin akan memakan waktu sekitar 5 menit tergantung pada kecepatan internet anda.<br>\n",
    "2. Jika langkah pertama sudah selesai ketik perintah berikut pada cmd pula, tunggu hingga proses selesai<br>\n",
    "python -m pip install docutils pygments pypiwin32 kivy.deps.sdl2 kivy.deps.glew<br>\n",
    "\n",
    "3. Sama seperti sebelumya<br>\n",
    "python -m pip install kivy.deps.gstreamer --extra-index-url https://kivy.org/downloads/packages/simple/<br>\n",
    "\n",
    "4. Langkah terakhir<br>\n",
    "python -m pip install kivy<br>\n",
    "\n",
    "Untuk memastikan bahwa Kivy sudah terinstall dengan benar silahkan buka “cmd” lalu ketik python dan enter.<br>\n",
    "\n",
    "Ketik import kivy lalu enter<br>\n",
    "Jika kivy sudah terinstall dengan benar maka tampilannya akan sedikit seperti gambar yang diatas, jika belum maka akan seperti yang dibawah<br>\n",
    "\n",
    "Modul tidak ditemukan.<br>\n",
    "Silahkan lakukan proses seperti yang diatas untuk dapat mengikuti materi selanjutnya.<br>\n"
   ]
  },
  {
   "cell_type": "markdown",
   "metadata": {},
   "source": [
    "<B> SOURCE CODE KIVY AWAL </B>"
   ]
  },
  {
   "cell_type": "code",
   "execution_count": null,
   "metadata": {},
   "outputs": [],
   "source": [
    "\n",
    "import kivy\n",
    "kivy.require('1.2.0')\n",
    "from kivy.app import App\n",
    "from kivy.uix.widget import Widget\n",
    "from kivy.uix.button import Button\n",
    "from kivy.uix.textinput import TextInput\n",
    "from kivy.properties import ObjectProperty, NumericProperty, ListProperty\n",
    "import math\n",
    "\n",
    "class Kalkulator(Widget):\n",
    "    def __init__(self):\n",
    "        self.lastop = \"\"\n",
    "        self.memorynum = 0.0\n",
    "        self.operation = False\n",
    "        self.appOn = False\n",
    "        display = ObjectProperty(None)\n",
    "        super().__init__()\n",
    "\n",
    "    def actionTombol(self, klik):\n",
    "        \n",
    "        self.appOn = True\n",
    " \n",
    "\n",
    "        if klik == \"Exit\":\n",
    "                exit()\n",
    "            \n",
    "        if self.appOn == True:\n",
    "            if klik in \"0123456789.\":\n",
    "                if self.lastop == \"\":\n",
    "                    self.lastop = \"\"\n",
    "                self.displayInputan(klik)\n",
    "                \n",
    "            elif klik in \"+-:x^//\" and self.lastop != \"=\":\n",
    "                if self.lastop != \"\":\n",
    "                    self.perhitungan(klik)\n",
    "                else:\n",
    "                    self.memorynum = float(self.display.text)\n",
    "                self.lastop = klik\n",
    "                self.operation = True\n",
    "\n",
    "            elif klik in \"Cc\":\n",
    "                self.display.text = \"\"\n",
    "                self.memorynum = 0.0\n",
    "                self.lastop = \"\"\n",
    "\n",
    "            elif klik == \"=\" and self.lastop != \"=\":\n",
    "                self.perhitungan(klik)\n",
    "                self.memorynum = 0.0\n",
    "                self.lastpp = \"=\"\n",
    "                self.operation = True\n",
    "\n",
    "    \n",
    "\n",
    "            elif klik == \"+/-\" and self.lastop != \"=\":\n",
    "                men = int(self.display.text)\n",
    "                if self.display.text[0] != \"-\":\n",
    "                    men = men - (men*2)\n",
    "                else:\n",
    "                    men = men * -1\n",
    "                self.display.text = str(men)\n",
    "            elif klik == \"<\" and self.lastop != \"=\":\n",
    "                self.display.text = self.display.text[:-1]\n",
    "\n",
    "            elif klik == \">\" and self.lastop != \"=\":\n",
    "                self.display.text = self.display.text[1:]\n",
    "\n",
    "\n",
    "    def perhitungan(self, klik):\n",
    "        if self.lastop == \"+\":\n",
    "            self.memorynum  += float(self.display.text)\n",
    "            print(\"+\")\n",
    "        elif self.lastop == \"-\":\n",
    "            self.memorynum -= float(self.display.text)\n",
    "        elif self.lastop == \":\":\n",
    "            self.memorynum /= float(self.display.text)\n",
    "        elif self.lastop == \"x\":\n",
    "            self.memorynum *= float(self.display.text)\n",
    "        elif self.lastop == \"^\":\n",
    "            self.memorynum **= float(self.display.text)\n",
    "    \n",
    "        self.display.text = str(self.memorynum)\n",
    "            \n",
    "\n",
    "    def displayInputan(self, klik):\n",
    "        if klik == \".\" and \".\" in self.display.text:\n",
    "            return\n",
    "        if self.operation:\n",
    "            self.display.text = klik\n",
    "            self.operation = False\n",
    "        else:\n",
    "            self.display.text += klik\n",
    "    \n",
    "    \n",
    "\n",
    "class MainApp(App):\n",
    "    def build(self):\n",
    "        self.Calc = Kalkulator()\n",
    "        return self.Calc\n",
    "\n",
    "if __name__ == \"__main__\":\n",
    "    app = MainApp()\n",
    "    app.run()\n"
   ]
  },
  {
   "cell_type": "markdown",
   "metadata": {},
   "source": [
    "<B> HASIL RUN CODE KIVY AWAL </B>"
   ]
  },
  {
   "cell_type": "markdown",
   "metadata": {},
   "source": [
    "<img src=\"gambar/kivy.png\">"
   ]
  },
  {
   "cell_type": "markdown",
   "metadata": {},
   "source": [
    "<B> SOURCE CODE KIVY AWAL </B>"
   ]
  },
  {
   "cell_type": "markdown",
   "metadata": {},
   "source": [
    "<img src=\"gambar/kivyakhir.png\">"
   ]
  },
  {
   "cell_type": "markdown",
   "metadata": {},
   "source": [
    "# <center>STRUKTUR CLASS</center>"
   ]
  },
  {
   "cell_type": "markdown",
   "metadata": {},
   "source": [
    "<img src=\"gambar/h.png\">"
   ]
  },
  {
   "cell_type": "markdown",
   "metadata": {},
   "source": [
    "<B>class Kalkulator(Widget)</B> <br>\n",
    "Class ini untuk masuk pada tampilan kalkulator<br>\n",
    "def __init__(self):  untuk menginisialisasi kelas kalkulator<br>\n",
    "def actionTombol(self, klik):  method untuk tombol kalkulator<br>\n",
    "def perhitungan(self, klik) : operasi rumus pada kalkulator<br>\n",
    "def displayInputan(self,klik): inputan pada kalkulator<br>\n"
   ]
  },
  {
   "cell_type": "markdown",
   "metadata": {},
   "source": [
    "<B>class Mainapp(App)</B><br>\n",
    "Class ini untuk pemanggilan<br>\n",
    "def build(self): pemanggilan program class kalkulator\n"
   ]
  },
  {
   "cell_type": "markdown",
   "metadata": {},
   "source": [
    "# <center>KONSEP OOP</center>"
   ]
  },
  {
   "cell_type": "markdown",
   "metadata": {},
   "source": [
    "INHERITANCE :-<Br>\n",
    "POLYMORPHISM : -<Br>\n",
    "OVERLOADING AND OVERRIDING:-<Br>\n",
    "ENCAPSULATION: -<Br>\n"
   ]
  },
  {
   "cell_type": "code",
   "execution_count": null,
   "metadata": {},
   "outputs": [],
   "source": []
  }
 ],
 "metadata": {
  "kernelspec": {
   "display_name": "Python 3",
   "language": "python",
   "name": "python3"
  },
  "language_info": {
   "codemirror_mode": {
    "name": "ipython",
    "version": 3
   },
   "file_extension": ".py",
   "mimetype": "text/x-python",
   "name": "python",
   "nbconvert_exporter": "python",
   "pygments_lexer": "ipython3",
   "version": "3.7.1"
  }
 },
 "nbformat": 4,
 "nbformat_minor": 2
}
